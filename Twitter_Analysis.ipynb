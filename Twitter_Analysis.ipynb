{
 "cells": [
  {
   "cell_type": "code",
   "execution_count": 83,
   "metadata": {},
   "outputs": [],
   "source": [
    "import pandas as pd\n",
    "import numpy as np\n",
    "import networkx as nx\n",
    "import matplotlib.pyplot as plt\n",
    "import igraph as ig\n",
    "from itertools import combinations\n",
    "import operator\n",
    "import math\n",
    "from tqdm import tqdm\n",
    "\n",
    "# Question 3.1: parse the files\n",
    "df_small = pd.read_csv(r'D:\\Facultate\\Year 2\\Semester 1\\Social Network Analysis for CS\\assignment 2/twitter-small.tsv', \n",
    "                 sep='\\t', header=None, names = [\"timestamp\", \"user\", \"tweet\"])\n",
    "df_larger = pd.read_csv(r'D:\\Facultate\\Year 2\\Semester 1\\Social Network Analysis for CS\\assignment 2/twitter-larger.tsv', \n",
    "                 sep='\\t', header=None, names = [\"timestamp\", \"user\", \"tweet\"])\n",
    "\n",
    "\n",
    "def extract_metions(text):\n",
    "    mentions = []\n",
    "    for word in text.split():\n",
    "        if \"@\" in word:\n",
    "            mentions.append(word.replace(\"@\", \"\").replace(\":\", \"\"))\n",
    "            \n",
    "    if mentions == []:\n",
    "        mentions.append(\"0\")\n",
    "            \n",
    "    return mentions\n",
    "\n",
    "def get_edgelist(df):\n",
    "    sources = []\n",
    "    targets = []\n",
    "    timestamps = []\n",
    "    \n",
    "    for i in df.index:    \n",
    "        text = df.loc[i, \"tweet\"]\n",
    "        user = df.loc[i, \"user\"]\n",
    "        timestamp = df.loc[i, \"timestamp\"]\n",
    "\n",
    "        mentions = extract_metions(text)\n",
    "        \n",
    "        if mentions != [\"0\"]:\n",
    "            for target in mentions:\n",
    "                sources.append(user)\n",
    "                targets.append(target)\n",
    "                timestamps.append(timestamp)\n",
    "                \n",
    "    df_edgelist = pd.DataFrame()\n",
    "    \n",
    "    df_edgelist[\"source\"] = sources\n",
    "    df_edgelist[\"target\"] = targets\n",
    "    df_edgelist[\"timestamp\"] = timestamps\n",
    "    \n",
    "    return df_edgelist\n",
    "\n",
    "edgelist_small = get_edgelist(df_small)\n",
    "edgelist_large = get_edgelist(df_larger)\n",
    "\n",
    "# save files to csv\n",
    "edgelist_small.to_csv(r'D:\\Facultate\\Year 2\\Semester 1\\Social Network Analysis for CS\\assignment 2/edgelist_small.csv', index=False)\n",
    "edgelist_large.to_csv(r'D:\\Facultate\\Year 2\\Semester 1\\Social Network Analysis for CS\\assignment 2/edgelist_large.csv', index=False)"
   ]
  },
  {
   "cell_type": "code",
   "execution_count": 2,
   "metadata": {},
   "outputs": [],
   "source": [
    "# Question 3.2: Extract statistics\n",
    "# read the files after parsing\n",
    "df_small = pd.read_csv(r'D:\\Facultate\\Year 2\\Semester 1\\Social Network Analysis for CS\\assignment 2/edgelist_small.csv')\n",
    "df_larger = pd.read_csv(r'D:\\Facultate\\Year 2\\Semester 1\\Social Network Analysis for CS\\assignment 2/edgelist_large.csv')"
   ]
  },
  {
   "cell_type": "code",
   "execution_count": 3,
   "metadata": {},
   "outputs": [],
   "source": [
    "# create the graphs from the dataframes\n",
    "g_med = nx.from_pandas_edgelist(df_small, \"source\", \"target\", ['timestamp'], create_using = nx.DiGraph)\n",
    "g_larger = nx.from_pandas_edgelist(df_larger, \"source\", \"target\", ['timestamp'], create_using = nx.DiGraph) "
   ]
  },
  {
   "cell_type": "code",
   "execution_count": 304,
   "metadata": {},
   "outputs": [],
   "source": [
    "def get_graph_statistics(g):\n",
    "    n_nodes = g.number_of_nodes()\n",
    "    n_edges = len(list(g.edges()))\n",
    "    density = nx.density(g)\n",
    "    avg_clustering = nx.average_clustering(g)\n",
    "    n_scc = nx.number_strongly_connected_components(g)\n",
    "    size_largest_scc = [len(c) for c in sorted(nx.strongly_connected_components(g), key=len, reverse=True)][0]\n",
    "    \n",
    "    n_wcc = nx.number_weakly_connected_components(g)\n",
    "    size_largest_wcc = [len(c) for c in sorted(nx.weakly_connected_components(g), key=len, reverse=True)][0]\n",
    "    \n",
    "    stats = pd.DataFrame()\n",
    "    stats[\"name\"] = [\"n_nodes\", \"n_edges\",\"n_scc\", \"size_largest_scc\",\"n_wcc\",\"size_largest_wcc\",\"density\",\"avg_clustering\"]\n",
    "    stats[\"values\"] = [n_nodes, n_edges, n_scc, size_largest_scc, n_wcc, size_largest_wcc, density, avg_clustering]\n",
    "    \n",
    "    return stats\n",
    "    \n",
    "stats_gmed = get_graph_statistics(g_med)\n",
    "stats_glarger = get_graph_statistics(g_larger)"
   ]
  },
  {
   "cell_type": "code",
   "execution_count": 305,
   "metadata": {},
   "outputs": [
    {
     "name": "stdout",
     "output_type": "stream",
     "text": [
      "\u001b[1mStatistics for Medium Twitter Graph\u001b[0m\n",
      "\\begin{tabular}{llr}\n",
      "\\toprule\n",
      "{} &              name &        values \\\\\n",
      "\\midrule\n",
      "0 &           n\\_nodes &  68832.000000 \\\\\n",
      "1 &           n\\_edges &  69917.000000 \\\\\n",
      "2 &             n\\_scc &  68534.000000 \\\\\n",
      "3 &  size\\_largest\\_scc &     22.000000 \\\\\n",
      "4 &             n\\_wcc &  11858.000000 \\\\\n",
      "5 &  size\\_largest\\_wcc &  40399.000000 \\\\\n",
      "6 &           density &      0.000015 \\\\\n",
      "7 &    avg\\_clustering &      0.015687 \\\\\n",
      "\\bottomrule\n",
      "\\end{tabular}\n",
      "\n",
      "\n",
      "\n",
      "\u001b[1mStatistics for Larger Twitter Graph\u001b[0m\n",
      "\\begin{tabular}{llr}\n",
      "\\toprule\n",
      "{} &              name &        values \\\\\n",
      "\\midrule\n",
      "0 &           n\\_nodes &  6.948640e+05 \\\\\n",
      "1 &           n\\_edges &  1.050393e+06 \\\\\n",
      "2 &             n\\_scc &  6.617280e+05 \\\\\n",
      "3 &  size\\_largest\\_scc &  2.811200e+04 \\\\\n",
      "4 &             n\\_wcc &  7.091000e+04 \\\\\n",
      "5 &  size\\_largest\\_wcc &  5.294960e+05 \\\\\n",
      "6 &           density &  2.175469e-06 \\\\\n",
      "7 &    avg\\_clustering &  2.062244e-02 \\\\\n",
      "\\bottomrule\n",
      "\\end{tabular}\n",
      "\n"
     ]
    }
   ],
   "source": [
    "print(\"\\033[1mStatistics for Medium Twitter Graph\\033[0m\")\n",
    "print(stats_gmed.to_latex())\n",
    "print('\\n')\n",
    "print(\"\\033[1mStatistics for Larger Twitter Graph\\033[0m\")\n",
    "print(stats_glarger.to_latex())"
   ]
  },
  {
   "cell_type": "code",
   "execution_count": 306,
   "metadata": {},
   "outputs": [
    {
     "data": {
      "image/png": "[encoded data removed]",
      "text/plain": [
       "<Figure size 720x360 with 1 Axes>"
      ]
     },
     "metadata": {
      "needs_background": "light"
     },
     "output_type": "display_data"
    },
    {
     "data": {
      "image/png": "[encoded data removed]",
      "text/plain": [
       "<Figure size 720x360 with 1 Axes>"
      ]
     },
     "metadata": {
      "needs_background": "light"
     },
     "output_type": "display_data"
    },
    {
     "data": {
      "image/png": "[encoded data removed]",
      "text/plain": [
       "<Figure size 720x288 with 1 Axes>"
      ]
     },
     "metadata": {
      "needs_background": "light"
     },
     "output_type": "display_data"
    },
    {
     "data": {
      "image/png": "[encoded data removed]",
      "text/plain": [
       "<Figure size 720x288 with 1 Axes>"
      ]
     },
     "metadata": {
      "needs_background": "light"
     },
     "output_type": "display_data"
    }
   ],
   "source": [
    "def get_indegree_distribution(G):\n",
    "    histogram = {}\n",
    "    for node, in_degree_value in G.in_degree():\n",
    "        if in_degree_value not in histogram.keys():\n",
    "            histogram[in_degree_value] = 1\n",
    "        else:\n",
    "            histogram[in_degree_value] += 1\n",
    "        \n",
    "    return histogram\n",
    "\n",
    "def get_outdegree_distribution(G):\n",
    "    histogram_outdegree = {}\n",
    "    for node, out_degree_value in G.out_degree():\n",
    "        if out_degree_value not in histogram_outdegree.keys():\n",
    "            histogram_outdegree[out_degree_value] = 1\n",
    "        else:\n",
    "            histogram_outdegree[out_degree_value] += 1\n",
    "        \n",
    "    return histogram_outdegree\n",
    "\n",
    "\n",
    "indegree_distribution_g_med = dict(sorted(get_indegree_distribution(g_med).items()))\n",
    "indegree_distribution_g_larger = dict(sorted(get_indegree_distribution(g_larger).items()))\n",
    "\n",
    "outdegree_distribution_g_med = dict(sorted(get_outdegree_distribution(g_med).items()))\n",
    "outdegree_distribution_g_larger = dict(sorted(get_outdegree_distribution(g_larger).items()))\n",
    "\n",
    "\n",
    "def plot_histogram(histogram_dict, size, w, title, x_title, plot_type = \"normal\"):\n",
    "    x_label = list(histogram_dict.keys())\n",
    "    y_label = list(histogram_dict.values())\n",
    "    \n",
    "    fig = plt.figure(figsize = size)\n",
    "    \n",
    "#     plt.plot(x_label, y_label, color ='red')\n",
    "    \n",
    "    plt.bar(x_label, y_label, color ='maroon', width = w)\n",
    "    \n",
    "    if plot_type == 'log-log':\n",
    "        plt.yscale('log')\n",
    "        plt.xscale('log')\n",
    "    elif plot_type == 'log-y':\n",
    "        plt.yscale('log')\n",
    "        \n",
    "    elif plot_type == 'log-x':\n",
    "        plt.xscale('log')\n",
    "    \n",
    "    plt.xlabel(x_title)\n",
    "    plt.ylabel(\"Frequency\")\n",
    "    plt.title(title)\n",
    "    \n",
    "    save_path = \"A2_\" + title + \".png\"\n",
    "    \n",
    "    plt.savefig(save_path)\n",
    "\n",
    "# obtain the figures\n",
    "# For the Medium size graph\n",
    "figg = plot_histogram(indegree_distribution_g_med, (10,5), 0.3, \"Medium_Graph_indegree_distribution\", \"Indegree values\", \"log-log\")\n",
    "figg = plot_histogram(outdegree_distribution_g_med, (10,5), 0.7, \"Medium_Graph_outdegree_distribution\", \"Outdegree values\", \"log-log\")\n",
    "\n",
    "# For the Large size graph\n",
    "figg = plot_histogram(indegree_distribution_g_larger, (10,4),  1.5, \"Large_Graph_indegree_distribution\", \"Indegree values\", \"log-log\")\n",
    "figg = plot_histogram(outdegree_distribution_g_larger, (10,4),  1.5, \"Large_Graph_outdegree_distribution\", \"Outdegree values\", \"log-log\")"
   ]
  },
  {
   "cell_type": "code",
   "execution_count": 4,
   "metadata": {},
   "outputs": [],
   "source": [
    "# get the distance distribution of the giant component (largest weakly connected component)\n",
    "def get_n_edges_in_component(G, node_list):\n",
    "    G_edge_list = list(G.edges())\n",
    "    \n",
    "    filtered_edges = list(filter(lambda edge: (edge[0] in node_list and edge[1] in node_list), G_edge_list))\n",
    "    \n",
    "    return filtered_edges\n",
    "\n",
    "largest_weakly_g_med = max(nx.weakly_connected_components(g_med), key=len)\n",
    "wcc_g_med_edges = get_n_edges_in_component(g_med, largest_weakly_g_med)\n",
    "\n",
    "# Create a new graph from the edges of the wcc obtained \n",
    "g_med_wcc = nx.Graph()\n",
    "g_med_wcc.add_edges_from(wcc_g_med_edges)"
   ]
  },
  {
   "cell_type": "code",
   "execution_count": 12,
   "metadata": {},
   "outputs": [],
   "source": [
    "# DISTANCE DISTRIBUTIONS\n",
    "# The problem with these datasets is that they are large, which means that simply computing\n",
    "# the all-pairs-shortest-paths lengths is computationally expensive.\n",
    "# For this, 2 options were explored\n",
    "\n",
    "##### Trial 1: Use A*, landmarks and triangle identities\n",
    "# A total of 50 landmarks will be chosen according to their degree (highest) and used\n",
    "nodes = np.array(g_med_wcc.nodes())\n",
    "landmarks = []\n",
    "\n",
    "for (user, degree) in sorted(g_med_wcc.degree, key=lambda x: x[1], reverse=True)[:100]:\n",
    "        landmarks.append(user)\n",
    "    \n",
    "landmarks.remove(np.nan)\n",
    "landmarks = landmarks[:50]\n",
    "\n",
    "landmarks_ids = []\n",
    "\n",
    "for user in landmarks:\n",
    "    landmarks_ids.append(np.where(nodes == user)[0][0])\n",
    "    \n",
    "landmarks_ids = np.array(landmarks_ids)\n",
    "\n",
    "# easiest way to map the nodes from string names to int values\n",
    "# first get the adjacency matrix\n",
    "adj_med = nx.adjacency_matrix(g_med_wcc)\n",
    "\n",
    "# get the graph\n",
    "wcc_med_int = nx.from_scipy_sparse_matrix(adj_med)\n",
    "\n",
    "# the networkx.astar_path_length() with a heuristic will be used\n",
    "# for the heuristic, the distance between all points to each landmark is first computed\n",
    "\n",
    "heuristic_embedding = np.zeros((len(nodes), len(landmarks_ids)))\n",
    "\n",
    "for lmark in landmarks_ids:\n",
    "    sp_dict = nx.single_source_shortest_path_length(wcc_med_int, lmark)\n",
    "\n",
    "    for target, length  in sp_dict.items():\n",
    "        heuristic_embedding[target][np.where(landmarks_ids == lmark)[0][0]] = length\n",
    "        \n",
    "# variable heuristic_embedding is a numpy array where:\n",
    "# - each row corresponds to a node in the graph\n",
    "# - each column corresponds to a landmark (order of columns is the order of landmarks in landmarks_ids)\n",
    "# - the distance is approximated by the upper bound, i.e. the min value of:\n",
    "#        dist(source, landmark) + dist(landmark, target)\n",
    "\n",
    "# estimate the distance between points as the upper bound of the triangle inequality\n",
    "def heuristic_function(source, target): \n",
    "    \n",
    "    return (heuristic_embedding[source] + heuristic_embedding[target]).min() "
   ]
  },
  {
   "cell_type": "code",
   "execution_count": 13,
   "metadata": {},
   "outputs": [
    {
     "name": "stdout",
     "output_type": "stream",
     "text": [
      "499 ms ± 35.3 ms per loop (mean ± std. dev. of 7 runs, 1 loop each)\n"
     ]
    }
   ],
   "source": [
    "%%timeit\n",
    "# get the estimate duration for a single pair (source, target) using the A*, landmarks approach\n",
    "nx.astar_path_length(wcc_med_int, 0, 522, heuristic=heuristic_function)"
   ]
  },
  {
   "cell_type": "code",
   "execution_count": 8,
   "metadata": {},
   "outputs": [
    {
     "name": "stdout",
     "output_type": "stream",
     "text": [
      "253 ms ± 23.8 ms per loop (mean ± std. dev. of 7 runs, 1 loop each)\n"
     ]
    }
   ],
   "source": [
    "%%timeit\n",
    "# compare the above result to the simple A* algorithm\n",
    "nx.astar_path_length(wcc_med_int, 0, 522)"
   ]
  },
  {
   "cell_type": "code",
   "execution_count": 9,
   "metadata": {},
   "outputs": [
    {
     "name": "stdout",
     "output_type": "stream",
     "text": [
      "250 µs ± 10.3 µs per loop (mean ± std. dev. of 7 runs, 1000 loops each)\n"
     ]
    }
   ],
   "source": [
    "%%timeit\n",
    "# get the estimate duration for a single pair (source, target) using Dijkstra's alg. \n",
    "nx.shortest_path_length(wcc_med_int, 0, 522)"
   ]
  },
  {
   "cell_type": "code",
   "execution_count": 207,
   "metadata": {},
   "outputs": [
    {
     "name": "stdout",
     "output_type": "stream",
     "text": [
      "264 ms ± 7.52 ms per loop (mean ± std. dev. of 7 runs, 1 loop each)\n"
     ]
    }
   ],
   "source": [
    "# get the estimate duration for a single pair (source, target) using the A*\n",
    "%%timeit\n",
    "nx.astar_path_length(wcc_med_int, 0, 522)"
   ]
  },
  {
   "cell_type": "code",
   "execution_count": 32,
   "metadata": {},
   "outputs": [],
   "source": [
    "# Clearly the A* + landmarks approach takes much more time than nx.shortest_path_length(), which is unfortunate\n",
    "# maybe there is a way to properly and successfully implement this approach but due to time constraints\n",
    "# no further efforts will be made in this direction\n",
    "\n",
    "##### Trial 2: compute the distance distribution for a subset of the initial dataset\n",
    "\n",
    "# select uniformly at random 2500 nodes from the subset and use them to compute shortest paths\n",
    "\n",
    "n_usable_med = []\n",
    "for i in np.random.randint(len(g_med_wcc.nodes()), size=2500):\n",
    "    n_usable_med.append(list(g_med_wcc.nodes())[i])"
   ]
  },
  {
   "cell_type": "code",
   "execution_count": 36,
   "metadata": {},
   "outputs": [
    {
     "name": "stderr",
     "output_type": "stream",
     "text": [
      "100%|██████████| 3123750/3123750 [13:31<00:00, 3849.87it/s]\n"
     ]
    }
   ],
   "source": [
    "# get all pairs of points\n",
    "all_pairs_med = list(combinations(n_usable_med, 2))\n",
    "\n",
    "distances_med = []\n",
    "for (source,target) in tqdm(all_pairs_med):\n",
    "#     d = nx.astar_path_length(wcc_med_int, source, target, heuristic=heuristic_function)\n",
    "    d = nx.shortest_path_length(g_med_wcc, source, target)\n",
    "    distances_med.append(d)"
   ]
  },
  {
   "cell_type": "code",
   "execution_count": 37,
   "metadata": {},
   "outputs": [],
   "source": [
    "df = pd.DataFrame()\n",
    "df['distances'] = distances_med\n",
    "\n",
    "distance_distrib = {}\n",
    "for key in df.value_counts().index:\n",
    "    freq = df.value_counts()[key]\n",
    "    dist = key[0]\n",
    "    distance_distrib[dist] = freq"
   ]
  },
  {
   "cell_type": "code",
   "execution_count": 43,
   "metadata": {},
   "outputs": [
    {
     "data": {
      "image/png": "[encoded data removed]",
      "text/plain": [
       "<Figure size 720x360 with 1 Axes>"
      ]
     },
     "metadata": {
      "needs_background": "light"
     },
     "output_type": "display_data"
    }
   ],
   "source": [
    "figg = plot_histogram(distance_distrib, (10,5), 0.7, \"Largest WCC distance distribution (Medium Graph)\", \"distance\")"
   ]
  },
  {
   "cell_type": "code",
   "execution_count": 41,
   "metadata": {},
   "outputs": [],
   "source": [
    "# repeat for the larger graph\n",
    "largest_weakly_g_larger = max(nx.weakly_connected_components(g_larger), key=len)\n",
    "wcc_g_larger_edges = get_n_edges_in_component(g_larger, largest_weakly_g_larger)\n",
    "\n",
    "# Create a new graph from the edges of the wcc obtained \n",
    "g_larger_wcc = nx.Graph()\n",
    "g_larger_wcc.add_edges_from(wcc_g_larger_edges)"
   ]
  },
  {
   "cell_type": "code",
   "execution_count": 42,
   "metadata": {},
   "outputs": [],
   "source": [
    "n_usable_large = []\n",
    "for i in np.random.randint(len(g_larger_wcc.nodes()), size=2500):\n",
    "    n_usable_large.append(list(g_larger_wcc.nodes())[i])"
   ]
  },
  {
   "cell_type": "code",
   "execution_count": 44,
   "metadata": {},
   "outputs": [
    {
     "name": "stderr",
     "output_type": "stream",
     "text": [
      "100%|██████████| 3123750/3123750 [42:00<00:00, 1239.27it/s] \n"
     ]
    }
   ],
   "source": [
    "# get all pairs of points\n",
    "all_pairs_large = list(combinations(n_usable_large, 2))\n",
    "\n",
    "distances_large = []\n",
    "for (source,target) in tqdm(all_pairs_large):\n",
    "#     d = nx.astar_path_length(wcc_med_int, source, target, heuristic=heuristic_function)\n",
    "    d = nx.shortest_path_length(g_larger_wcc, source, target)\n",
    "    distances_large.append(d)\n",
    "    \n",
    "df_lwcc = pd.DataFrame()\n",
    "df_lwcc['distances'] = distances_large\n",
    "\n",
    "distance_distrib_large = {}\n",
    "for key in df_lwcc.value_counts().index:\n",
    "    freq = df_lwcc.value_counts()[key]\n",
    "    dist = key[0]\n",
    "    distance_distrib_large[dist] = freq"
   ]
  },
  {
   "cell_type": "code",
   "execution_count": 46,
   "metadata": {},
   "outputs": [
    {
     "data": {
      "image/png": "[encoded data removed]",
      "text/plain": [
       "<Figure size 720x360 with 1 Axes>"
      ]
     },
     "metadata": {
      "needs_background": "light"
     },
     "output_type": "display_data"
    }
   ],
   "source": [
    "figg = plot_histogram(distance_distrib_large, (10,5), 0.7, \"Largest WCC distance distribution (Large Dataset)\", \"distance\")"
   ]
  },
  {
   "cell_type": "code",
   "execution_count": 14,
   "metadata": {},
   "outputs": [],
   "source": [
    "# Question 3.3: eigenvector, degree and PageRank centrality\n",
    "\n",
    "## For Degree centrality, in-degree/out-degree will be used since the graph is directed\n",
    "# In-Degree Centrality\n",
    "in_degr_c_med = nx.in_degree_centrality(g_med)\n",
    "in_degr_c_large = nx.in_degree_centrality(g_larger)\n",
    "\n",
    "top20_in_degr_med = list(dict(sorted(in_degr_c_med.items(), key=operator.itemgetter(1),reverse=True)))[:20]\n",
    "top20_in_degr_large = list(dict(sorted(in_degr_c_large.items(), key=operator.itemgetter(1),reverse=True)))[:20]\n",
    "\n",
    "# Out-Degree Centrality\n",
    "out_degr_c_med = nx.out_degree_centrality(g_med)\n",
    "out_degr_c_large = nx.out_degree_centrality(g_larger)\n",
    "\n",
    "top20_out_degr_med = list(dict(sorted(out_degr_c_med.items(), key=operator.itemgetter(1),reverse=True)))[:20]\n",
    "top20_out_degr_large = list(dict(sorted(out_degr_c_large.items(), key=operator.itemgetter(1),reverse=True)))[:20]"
   ]
  },
  {
   "cell_type": "code",
   "execution_count": 15,
   "metadata": {},
   "outputs": [],
   "source": [
    "# PageRank is designed for directed graphs, therefore directionality is not an issue\n",
    "# PageRank centrality\n",
    "pagerank_c_med = nx.pagerank(g_med)\n",
    "pagerank_c_large = nx.pagerank(g_larger)\n",
    "\n",
    "top20_pagerank_med = list(dict(sorted(pagerank_c_med.items(), key=operator.itemgetter(1),reverse=True)))[:20]\n",
    "top20_pagerank_large = list(dict(sorted(pagerank_c_large.items(), key=operator.itemgetter(1),reverse=True)))[:20]"
   ]
  },
  {
   "cell_type": "code",
   "execution_count": 16,
   "metadata": {},
   "outputs": [],
   "source": [
    "# To compute eigenvector centrality for a directed graph, similarly to the degree centrality,\n",
    "# in-eigenvector-centrality and out-eigenvector-centrality will be computed\n",
    "\n",
    "# IN - Eigenvector centrality\n",
    "in_egn_c_med = nx.eigenvector_centrality_numpy(g_med)\n",
    "in_egn_c_large = nx.eigenvector_centrality_numpy(g_larger)\n",
    "\n",
    "top20_in_egn_med = list(dict(sorted(in_egn_c_med.items(), key=operator.itemgetter(1),reverse=True)))[:20]\n",
    "top20_in_egn_large = list(dict(sorted(in_egn_c_large.items(), key=operator.itemgetter(1),reverse=True)))[:20]\n",
    "\n",
    "# OUT - Eigenvector Centrality\n",
    "out_egn_c_med = nx.eigenvector_centrality_numpy(g_med.reverse())\n",
    "out_egn_c_large = nx.eigenvector_centrality_numpy(g_larger.reverse())\n",
    "\n",
    "top20_out_egn_med = list(dict(sorted(out_egn_c_med.items(), key=operator.itemgetter(1),reverse=True)))[:20]\n",
    "top20_out_egn_large = list(dict(sorted(out_egn_c_med.items(), key=operator.itemgetter(1),reverse=True)))[:20]"
   ]
  },
  {
   "cell_type": "code",
   "execution_count": 55,
   "metadata": {},
   "outputs": [
    {
     "data": {
      "image/png": "[encoded data removed]",
      "text/plain": [
       "<Figure size 864x360 with 2 Axes>"
      ]
     },
     "metadata": {
      "needs_background": "light"
     },
     "output_type": "display_data"
    }
   ],
   "source": [
    "y1_1 = list(dict(sorted(in_degr_c_med.items(), key=operator.itemgetter(1),reverse=True)).values())[:20]\n",
    "y2_1 = list(dict(sorted(pagerank_c_med.items(), key=operator.itemgetter(1),reverse=True)).values())[:20]\n",
    "y3_1 = list(dict(sorted(in_egn_c_med.items(), key=operator.itemgetter(1),reverse=True)).values())[:20]\n",
    "x_range = list(range(20))\n",
    "\n",
    "fig, ax = plt.subplots(1,2,figsize = (12,5))\n",
    "ax[0].plot(x_range, y1_1, color ='red', label = \"in-degree\", marker='*')\n",
    "ax[0].plot(x_range, y2_1, color ='blue', label = \"PageRank\", marker='*')\n",
    "ax[0].plot(x_range, y3_1, color ='green', label = \"in-eigenvector\", marker='*')\n",
    "ax[0].legend()\n",
    "ax[0].set_ylabel(\"Centrality value\")\n",
    "ax[0].set_xlabel(\"top 20 users\")\n",
    "ax[0].set_title(\"Evolution of centrality value for medium graph\")\n",
    "\n",
    "y1_2 = list(dict(sorted(in_degr_c_large.items(), key=operator.itemgetter(1),reverse=True)).values())[:20]\n",
    "y2_2 = list(dict(sorted(pagerank_c_large.items(), key=operator.itemgetter(1),reverse=True)).values())[:20]\n",
    "y3_2 = list(dict(sorted(in_egn_c_large.items(), key=operator.itemgetter(1),reverse=True)).values())[:20]\n",
    "\n",
    "ax[1].plot(x_range, y1_2, color ='red', label = \"in-degree\", marker='*')\n",
    "ax[1].plot(x_range, y2_2, color ='blue', label = \"PageRank\", marker='*')\n",
    "ax[1].plot(x_range, y3_2, color ='green', label = \"in-eigenvector\", marker='*')\n",
    "ax[1].legend()\n",
    "ax[1].set_ylabel(\"Centrality value\")\n",
    "ax[1].set_xlabel(\"top 20 users\")\n",
    "ax[1].set_title(\"Evolution of centrality value for large graph\")\n",
    "\n",
    "plt.tight_layout()\n",
    "# plt.show()\n",
    "\n",
    "save_path = \"./A2_Q3.2_centrality_values.jpg\"    \n",
    "plt.savefig(save_path)"
   ]
  },
  {
   "cell_type": "code",
   "execution_count": 31,
   "metadata": {},
   "outputs": [
    {
     "name": "stdout",
     "output_type": "stream",
     "text": [
      "\u001b[1mNumber of common users found accross the centrality measures for medium graph\u001b[0m\n",
      "\\begin{tabular}{llrrr}\n",
      "\\toprule\n",
      "{} &               x &  In-degree &  PageRank &  In-eigenvector \\\\\n",
      "\\midrule\n",
      "0 &       In-degree &         20 &        17 &               1 \\\\\n",
      "1 &        PageRank &         17 &        20 &               1 \\\\\n",
      "2 &  In-eigenvector &          1 &         1 &              20 \\\\\n",
      "\\bottomrule\n",
      "\\end{tabular}\n",
      "\n",
      "\n",
      "\n",
      "\u001b[1mNumber of common users found accross the centrality measures for large graph\u001b[0m\n",
      "\\begin{tabular}{llrrr}\n",
      "\\toprule\n",
      "{} &               x &  In-degree &  PageRank &  In-eigenvector \\\\\n",
      "\\midrule\n",
      "0 &       In-degree &         20 &        15 &               1 \\\\\n",
      "1 &        PageRank &         15 &        20 &               0 \\\\\n",
      "2 &  In-eigenvector &          1 &         0 &              20 \\\\\n",
      "\\bottomrule\n",
      "\\end{tabular}\n",
      "\n"
     ]
    }
   ],
   "source": [
    "df_common_med = pd.DataFrame()\n",
    "df_common_med[\"x\"] = [\"In-degree\", \"PageRank\", \"In-eigenvector\"]\n",
    "df_common_med[\"In-degree\"] = [20, len(list(set(top20_in_degr_med).intersection(top20_pagerank_med))),\n",
    "                             len(list(set(top20_in_degr_med).intersection(top20_in_egn_med)))]\n",
    "\n",
    "df_common_med[\"PageRank\"] = [len(list(set(top20_pagerank_med).intersection(top20_in_degr_med))), 20,\n",
    "                             len(list(set(top20_pagerank_med).intersection(top20_in_egn_med)))]\n",
    "\n",
    "df_common_med[\"In-eigenvector\"] = [len(list(set(top20_in_egn_med).intersection(top20_in_degr_med))),\n",
    "                             len(list(set(top20_in_egn_med).intersection(top20_pagerank_med))), 20]\n",
    "\n",
    "df_common_large = pd.DataFrame()\n",
    "df_common_large[\"x\"] = [\"In-degree\", \"PageRank\", \"In-eigenvector\"]\n",
    "df_common_large[\"In-degree\"] = [20, len(list(set(top20_in_degr_large).intersection(top20_pagerank_large))),\n",
    "                             len(list(set(top20_in_degr_large).intersection(top20_in_egn_large)))]\n",
    "\n",
    "df_common_large[\"PageRank\"] = [len(list(set(top20_pagerank_large).intersection(top20_in_degr_large))), 20,\n",
    "                             len(list(set(top20_pagerank_large).intersection(top20_in_egn_large)))]\n",
    "\n",
    "df_common_large[\"In-eigenvector\"] = [len(list(set(top20_in_egn_large).intersection(top20_in_degr_large))),\n",
    "                             len(list(set(top20_in_egn_large).intersection(top20_pagerank_large))), 20]\n",
    "\n",
    "\n",
    "print(\"\\033[1mNumber of common users found accross the centrality measures for medium graph\\033[0m\")\n",
    "print(df_common_med.to_latex())\n",
    "print('\\n')\n",
    "print(\"\\033[1mNumber of common users found accross the centrality measures for large graph\\033[0m\")\n",
    "print(df_common_large.to_latex())"
   ]
  },
  {
   "cell_type": "code",
   "execution_count": 216,
   "metadata": {},
   "outputs": [],
   "source": [
    "# Question 3.4: Community detection\n",
    "# get giant component\n",
    "largest_weakly_g_med = max(nx.weakly_connected_components(g_med), key=len)\n",
    "edge_list = list(g_med.edges())\n",
    "\n",
    "filtered_edges = list(filter(lambda edge: (edge[0] in largest_weakly_g_med and edge[1] in largest_weakly_g_med), edge_list))\n",
    "\n",
    "for i in range(len(filtered_edges)):\n",
    "    edge = filtered_edges[i]\n",
    "    \n",
    "    timestamp = g_med.get_edge_data(*edge)\n",
    "    filtered_edges[i] = filtered_edges[i] + (timestamp,)\n",
    "\n",
    "# Create a new graph from the edges of the wcc obtained \n",
    "g_med_wcc = nx.Graph()\n",
    "g_med_wcc.add_edges_from(filtered_edges)"
   ]
  },
  {
   "cell_type": "code",
   "execution_count": 78,
   "metadata": {},
   "outputs": [],
   "source": [
    "# save the graph locally\n",
    "g_med_wcc_int = nx.convert_node_labels_to_integers(g_med_wcc)\n",
    "df_giant_component = nx.to_pandas_edgelist(g_med_wcc_int)\n",
    "df_giant_component.to_csv(r\"D:\\Facultate\\Year 2\\Semester 1\\Social Network Analysis for CS\\assignment 2/giant_component.csv\", header=False, index=False)"
   ]
  },
  {
   "cell_type": "code",
   "execution_count": 102,
   "metadata": {},
   "outputs": [],
   "source": [
    "from networkx.algorithms.community import  greedy_modularity_communities, modularity\n",
    "\n",
    "# get communities based on modularity\n",
    "modularity_community = greedy_modularity_communities(g_med_wcc)\n",
    "# get modularity value\n",
    "modularity_val = modularity(g_med_wcc, modularity_community)"
   ]
  },
  {
   "cell_type": "code",
   "execution_count": 147,
   "metadata": {},
   "outputs": [],
   "source": [
    "df_giant_component_labels = nx.to_pandas_edgelist(g_med_wcc)\n",
    "\n",
    "edges_within_community = []\n",
    "for i in range(len(modularity_community)):\n",
    "    community = modularity_community[i]\n",
    "    \n",
    "    n_edges = len(df_giant_component_labels[(df_giant_component_labels.source.isin(community)) & (df_giant_component_labels.target.isin(community))])\n",
    "    edges_within_community.append(n_edges)\n",
    "    \n",
    "community_size = [len(c) for c in modularity_community]"
   ]
  },
  {
   "cell_type": "code",
   "execution_count": 148,
   "metadata": {
    "scrolled": true
   },
   "outputs": [
    {
     "name": "stderr",
     "output_type": "stream",
     "text": [
      "100%|██████████| 161/161 [04:42<00:00,  1.75s/it]\n"
     ]
    }
   ],
   "source": [
    "# get edges outside the community\n",
    "edges_oustide_community = []\n",
    "for i in tqdm(range(len(modularity_community))):\n",
    "    community = modularity_community[i]\n",
    "    \n",
    "    edges_outside = 0\n",
    "    for node in community: \n",
    "        edges_outside += len(df_giant_component_labels[(df_giant_component_labels.source == node) & (~df_giant_component_labels.target.isin(community))])\n",
    "    \n",
    "    edges_oustide_community.append(edges_outside)"
   ]
  },
  {
   "cell_type": "code",
   "execution_count": 138,
   "metadata": {},
   "outputs": [
    {
     "data": {
      "image/png": "[encoded data removed]",
      "text/plain": [
       "<Figure size 720x360 with 2 Axes>"
      ]
     },
     "metadata": {
      "needs_background": "light"
     },
     "output_type": "display_data"
    }
   ],
   "source": [
    "fig, ax1 = plt.subplots(figsize = (10, 5))\n",
    "\n",
    "ax2 = ax1.twinx()\n",
    "# creating the bar plot\n",
    "ax1.bar(list(range(len(edges_within_community))), edges_within_community, color ='maroon',\n",
    "        width = 0.7, label = 'no. edges')\n",
    " \n",
    "ax1.set_xlabel(\"Community number\")\n",
    "ax1.set_ylabel(\"No. edges within the community\")\n",
    "ax1.set_title(\"Distribution of community size and number of edges\")\n",
    "ax1.legend(loc='upper right')\n",
    "\n",
    "ax2.plot(list(range(len(edges_within_community))), community_size, color='blue', label = 'community size')\n",
    "ax2.legend(loc='upper center')\n",
    "ax2.set_ylabel(\"Comunity size\")\n",
    "# plt.show()\n",
    "\n",
    "save_path = \"./A2_Q3.4_distribution.png\"    \n",
    "plt.savefig(save_path)"
   ]
  },
  {
   "cell_type": "code",
   "execution_count": 151,
   "metadata": {},
   "outputs": [
    {
     "data": {
      "image/png": "[encoded data removed]",
      "text/plain": [
       "<Figure size 720x360 with 1 Axes>"
      ]
     },
     "metadata": {
      "needs_background": "light"
     },
     "output_type": "display_data"
    }
   ],
   "source": [
    "fig, ax1 = plt.subplots(figsize = (10, 5))\n",
    "\n",
    "# creating the bar plot\n",
    "ax1.bar(list(range(len(edges_oustide_community))), edges_oustide_community, color ='maroon',\n",
    "        width = 0.7, label = 'no. edges')\n",
    " \n",
    "ax1.set_xlabel(\"Community number\")\n",
    "ax1.set_ylabel(\"No. edges outside the community\")\n",
    "ax1.set_title(\"Distribution of number of edges outside the community\")\n",
    "ax1.legend(loc='upper right')\n",
    "\n",
    "save_path = \"./A2_Q3.4_distribution2.png\"    \n",
    "plt.savefig(save_path)"
   ]
  },
  {
   "cell_type": "code",
   "execution_count": 140,
   "metadata": {},
   "outputs": [
    {
     "name": "stdout",
     "output_type": "stream",
     "text": [
      "Modularity value of the giant component is: 0.8594358644280689\n"
     ]
    }
   ],
   "source": [
    "print(f\"Modularity value of the giant component is: {modularity_val}\")"
   ]
  },
  {
   "cell_type": "code",
   "execution_count": null,
   "metadata": {},
   "outputs": [],
   "source": []
  }
 ],
 "metadata": {
  "kernelspec": {
   "display_name": "Python 3",
   "language": "python",
   "name": "python3"
  },
  "language_info": {
   "codemirror_mode": {
    "name": "ipython",
    "version": 3
   },
   "file_extension": ".py",
   "mimetype": "text/x-python",
   "name": "python",
   "nbconvert_exporter": "python",
   "pygments_lexer": "ipython3",
   "version": "3.8.5"
  }
 },
 "nbformat": 4,
 "nbformat_minor": 4
}
